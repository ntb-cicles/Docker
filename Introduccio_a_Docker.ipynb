{
  "nbformat": 4,
  "nbformat_minor": 0,
  "metadata": {
    "colab": {
      "name": "Introduccio a Docker.ipynb",
      "provenance": [],
      "collapsed_sections": [],
      "include_colab_link": true
    },
    "kernelspec": {
      "name": "python3",
      "display_name": "Python 3"
    },
    "language_info": {
      "name": "python"
    }
  },
  "cells": [
    {
      "cell_type": "markdown",
      "metadata": {
        "id": "view-in-github",
        "colab_type": "text"
      },
      "source": [
        "<a href=\"https://colab.research.google.com/github/ntb-cicles/Docker/blob/main/Introduccio_a_Docker.ipynb\" target=\"_parent\"><img src=\"https://colab.research.google.com/assets/colab-badge.svg\" alt=\"Open In Colab\"/></a>"
      ]
    },
    {
      "cell_type": "markdown",
      "source": [
        "# Què és Docker?\n",
        "\n",
        "**Docker és una plataforma que ens permet crear i gestionar entorns aïllats per executar una aplicació**.\n",
        "\n",
        "Dins de docker podem crear un o més entorns diferents. Cada entorn pot tenir els seus fitxers de configuració i programari amb versions determinades.\n",
        "\n",
        "A cada un dels entorns de Docker se'ls anomena **Containers**."
      ],
      "metadata": {
        "id": "yUY1ElOsCLia"
      }
    },
    {
      "cell_type": "markdown",
      "source": [
        "Docker és útil per desenvolupar aplicacions que funcionin correctament en qualsevol màquina. Així evitem la típica situació de \"en mi máquina funcionaba\".\n",
        "\n",
        "\\\\\n",
        "\n",
        "Cal tenir en compte que en cada màquina i Sistema Operatiu tenim diferències en:\n",
        "\n",
        "*   Fitxers del sistema: Per exemple, fitxers de configuració de les variables d'entorn.\n",
        "*   Fitxers personals: Per exemple, un document .txt creat per nosaltres el qual una aplicació està llegint constantment.\n",
        "*   Versions de programari: Algunes aplicacions depenen d'altres aplicacions, i si hi ha diferències en les versions de les aplicacions podem tenir problemes.\n",
        "\n",
        "\n",
        "\n",
        "\n",
        "\n",
        "\n"
      ],
      "metadata": {
        "id": "fucIolGTC006"
      }
    },
    {
      "cell_type": "markdown",
      "source": [
        "# Containers vs Màquines Virtuals\n",
        "\n",
        "La definició de Container com a \"entorn aïllat per executar una aplicació\" ens sona molt, ja que podem fer exactament això amb una màquina virtual. \n",
        "\n",
        "\\\n",
        "\n",
        "Tot i això, un Container de Docker no és el mateix que una màquina virtual.\n",
        "\n",
        "\\\n",
        "\n",
        "Una màquina virtual és una abstracció d'una màquina, és a dir, simula el hardware d'un ordinador real; i cal que li instal·lem un sistema operatiu.\n",
        "\n",
        "En canvi, en un Container de Docker, no cal que li instal·lem cap sistema operatiu ni simula hardware. Docker utilitza el Sistema Operatiu host per a tots el Containers.\n",
        "\n",
        "Per tant, un Container de Docker és molt més lleuger i molt més ràpid de crear i configurar.\n",
        "\n",
        "\n",
        "\n"
      ],
      "metadata": {
        "id": "mXzsm9TnHb93"
      }
    },
    {
      "cell_type": "markdown",
      "source": [
        "# Arquitectura de Docker\n",
        "\n"
      ],
      "metadata": {
        "id": "tIL_VbwGKMi4"
      }
    },
    {
      "cell_type": "markdown",
      "source": [
        "## Quins Sistemes Operatius podem provar amb Docker?"
      ],
      "metadata": {
        "id": "-jLeiELXKRbS"
      }
    },
    {
      "cell_type": "markdown",
      "source": [
        "Com hem dit anteriorment, Docker utilitza el Sistema Operatiu host per a tots el Containers. \n",
        "\n",
        "\\\n",
        "\n",
        "Però, si per exemple estem utilitzant un sistema Linux, podem provar aplicacions que funcionin també en Windows?\n",
        "\n",
        "\\\n",
        "\n",
        "\n",
        "*   Amb un SO Windows, podem **provar aplicacions per a Windows i per a Linux**\n",
        "*   Amb un SO Linux, podem **provar aplicacions per a Linux**.\n",
        "*   Amb un SO MacOS, podem **provar aplicacions per a MacOS i per a Linux**.\n",
        "\n",
        "\\\n"
      ],
      "metadata": {
        "id": "WmgYpsTvKbwo"
      }
    },
    {
      "cell_type": "markdown",
      "source": [
        "Això es deu a què **a partir de Windows 10, els SO Windows vénen amb dos Kernels: el Kernel de Windows i el Kernel de Linux**.\n",
        "\n",
        "\\\n",
        "\n",
        "En canvi, **els SO Linux només vénen amb el kernel de Linux**. Això es déu a què el kernel de Linux és obert i lliure (tothom pot veure, modificar i distribuïr el codi lliurement), en canvi el kernel de Windows és tancat i privatiu (ningú fora de Microsoft el pot veure, modificar o distribuïr el codi) \n",
        "\n",
        "\\\n",
        "\n",
        "El kernel de MacOS, igual que en Windows, és tancat i privatiu, i també porta el kernel de Linux. "
      ],
      "metadata": {
        "id": "Qcs9PYroMcFy"
      }
    },
    {
      "cell_type": "markdown",
      "source": [
        "## Kernel"
      ],
      "metadata": {
        "id": "5f__-P5nKYLa"
      }
    },
    {
      "cell_type": "markdown",
      "source": [
        "Un Kernel, també conegut com \"nucli del sistema operatiu\" **és la versió més petita possible d'un sistema operatiu**. El kernel és capaç de comunicar-se amb el hardware per executar aplicacions, i res més.\n",
        "\n",
        "\\\n",
        "\n",
        "Per tant, per executar una aplicació en un SO Linux, com a mínim necessites el kernel de Linux."
      ],
      "metadata": {
        "id": "kuql8sDqMlH9"
      }
    },
    {
      "cell_type": "markdown",
      "source": [
        "# Instal·lar Docker"
      ],
      "metadata": {
        "id": "VKeI-QSx7J_w"
      }
    },
    {
      "cell_type": "markdown",
      "source": [
        "[Enllaç instal·lar Docker en Windows](https://docs.docker.com/desktop/windows/install/ )\n",
        "\n",
        "[Enllaç instal·lar Docker en Ubuntu](https://docs.docker.com/engine/install/ubuntu/)"
      ],
      "metadata": {
        "id": "7o9VOn9hQZAs"
      }
    },
    {
      "cell_type": "markdown",
      "source": [
        "Us recomano posar un accès directe a l'escriptori per accedir a l'aplicació Docker. Proveu d'obrir la instal·lació per comprovar si s'ha instal·lat correctament!!!"
      ],
      "metadata": {
        "id": "s-DwjQHwePtv"
      }
    },
    {
      "cell_type": "markdown",
      "source": [
        "## Requeriment per instal·lar Docker en SO Windows"
      ],
      "metadata": {
        "id": "a5hGsldkSf90"
      }
    },
    {
      "cell_type": "markdown",
      "source": [
        "En Windows, descarregueu i executeu .\n",
        "\n",
        "Hi ha dues formes d'utilitzar Docker en Windows:\n",
        "\n",
        "\n",
        "\n",
        "*  WSL2: Qualsevol versió de 64-bits de Windows 10 o Windows 11 (actualitzades a la última versió disponible)\n",
        "*  HyperV: Versió Pro o Education de 64-bits de Windows 10 o Windows 11 (actualitzades a la última versió disponible)\n"
      ],
      "metadata": {
        "id": "d8hon-6nRRNJ"
      }
    },
    {
      "cell_type": "markdown",
      "source": [
        "A més, en WSL2, cal:\n",
        "\n",
        "*   Tenir mínim 4GB de memòria RAM\n",
        "*  Activar la virtualització en la configuració de la BIOS (si podeu utilitzar màquines virtuals vol dir que ja ho teniu activat)"
      ],
      "metadata": {
        "id": "zslkvwWGT3Hy"
      }
    },
    {
      "cell_type": "markdown",
      "source": [
        "*   Activar l'opció \"WSL 2\" en \"Activar o Desactivar las Características de Windows\"\n",
        "\n",
        "[LINK A LA IMATGE](https://docs.docker.com/desktop/windows/images/wsl2-enabled.png)"
      ],
      "metadata": {
        "id": "0ZSwUMtIYXVE"
      }
    },
    {
      "cell_type": "markdown",
      "source": [
        "\n",
        "*   Actualitzar el kernel de Linux si ho demana\n",
        "\n",
        "Si us surt una finestra dient \"**WSL 2 installation is incomplete**\" cal fer aquests passos:\n",
        "\n",
        "https://docs.microsoft.com/es-es/windows/wsl/install-manual#step-4---download-the-linux-kernel-update-package\n",
        "\n",
        "\\\n",
        "\n",
        "Descarregar i executar fitxer .msi\n",
        "\n",
        "\\\n",
        "\n",
        "Cal acceptar el permís d'administrador per instal·lar aquest programari!\n",
        "\n",
        "\\\n",
        "\n",
        "Quan estigui instal·lat, reiniciar PC."
      ],
      "metadata": {
        "id": "xWcbDITxYU1O"
      }
    },
    {
      "cell_type": "markdown",
      "source": [
        "# Comunicació amb Docker\n",
        "\n",
        "Igual què com heu fet amb Ubuntu Server i SSH.\n",
        "\n",
        "El **container de Docker té el rol de Servidor**, i una **terminal de Windows tindrà el rol de Client**.\n",
        "\n"
      ],
      "metadata": {
        "id": "SG9fCsqXRXK3"
      }
    },
    {
      "cell_type": "markdown",
      "source": [
        "Podeu comprovar que teniu Docker instal·lar obrint un Powershell i posant la comanda:"
      ],
      "metadata": {
        "id": "_Admy0YsdrxW"
      }
    },
    {
      "cell_type": "code",
      "source": [
        "docker version"
      ],
      "metadata": {
        "id": "vxYMXRCedw3r"
      },
      "execution_count": null,
      "outputs": []
    },
    {
      "cell_type": "markdown",
      "source": [
        "# Docker Image"
      ],
      "metadata": {
        "id": "qP8zQlqiZ0oj"
      }
    },
    {
      "cell_type": "markdown",
      "source": [
        "A Docker image is a private file system just for your container. It provides all the files and code your container needs."
      ],
      "metadata": {
        "id": "p3Rsldc3Z2Z9"
      }
    },
    {
      "cell_type": "markdown",
      "source": [
        "## Descarregar imatge de Odoo"
      ],
      "metadata": {
        "id": "X7-dmk39cDMV"
      }
    },
    {
      "cell_type": "markdown",
      "source": [
        "Provarem de descarregar una imatge d'una aplicació que ja em provat en un Ubuntu Server: Odoo\n",
        "\n",
        "[Enllaç a la imatge de Odoo](https://hub.docker.com/_/odoo/)"
      ],
      "metadata": {
        "id": "k3qlnv9ocIe-"
      }
    },
    {
      "cell_type": "markdown",
      "source": [
        "Per obtenir la imatge de Odoo, simplement obriu un PowerShell i poseu la comanda següent (cal tenir Docker obert):"
      ],
      "metadata": {
        "id": "wFr9IJ4McIu2"
      }
    },
    {
      "cell_type": "code",
      "source": [
        "docker pull odoo"
      ],
      "metadata": {
        "id": "8PknBfWHcu9i"
      },
      "execution_count": null,
      "outputs": []
    },
    {
      "cell_type": "markdown",
      "source": [
        "Espereu a que s'acabi de descarregar tot, i veureu que a l'apartat \"Images\" del Docker ja tindreu Odoo."
      ],
      "metadata": {
        "id": "XmJxy3CRc3ic"
      }
    },
    {
      "cell_type": "markdown",
      "source": [
        "## Crear un Container per a la nostra imatge de Odoo"
      ],
      "metadata": {
        "id": "IJeI4Kp8dJz1"
      }
    },
    {
      "cell_type": "markdown",
      "source": [
        "Per executar una imatge a Docker cal tenir un Container creat."
      ],
      "metadata": {
        "id": "x8fVn01AdN7c"
      }
    },
    {
      "cell_type": "markdown",
      "source": [
        "Un container no serà res més que un procès del sistema. La imatge que hem descarregat conté un sistema de fitxers aïllat del nostre sistema de fitxers de Windows."
      ],
      "metadata": {
        "id": "iErThaJAeniX"
      }
    },
    {
      "cell_type": "markdown",
      "source": [
        "Comandes següents extretes del [tutorial oficial de Odoo, anar al apartat \"How to use this image\"](https://hub.docker.com/_/odoo/)"
      ],
      "metadata": {
        "id": "2cE-neCAjEqm"
      }
    },
    {
      "cell_type": "markdown",
      "source": [
        "### Start a PostgreSQL server"
      ],
      "metadata": {
        "id": "EvPJtKlGi1A2"
      }
    },
    {
      "cell_type": "code",
      "source": [
        "docker run -d -e POSTGRES_USER=odoo -e POSTGRES_PASSWORD=odoo -e POSTGRES_DB=postgres --name db postgres:13"
      ],
      "metadata": {
        "id": "uBEnkKtqi2Nc"
      },
      "execution_count": null,
      "outputs": []
    },
    {
      "cell_type": "markdown",
      "source": [
        "### Start an Odoo instance"
      ],
      "metadata": {
        "id": "qtKzIGhki2oj"
      }
    },
    {
      "cell_type": "code",
      "source": [
        "docker run -p 8069:8069 --name odoo --link db:db -t odoo"
      ],
      "metadata": {
        "id": "pPgj1Aeci3jm"
      },
      "execution_count": null,
      "outputs": []
    },
    {
      "cell_type": "markdown",
      "source": [
        "### Stop and restart an Odoo instance"
      ],
      "metadata": {
        "id": "5Svhd2xFi6s_"
      }
    },
    {
      "cell_type": "code",
      "source": [
        "docker stop odoo\n",
        "docker start -a odoo"
      ],
      "metadata": {
        "id": "bfupIwGki855"
      },
      "execution_count": null,
      "outputs": []
    },
    {
      "cell_type": "markdown",
      "source": [
        "Comanda per mirar els contenidors actius i inactius de Docker:"
      ],
      "metadata": {
        "id": "b0VJYMMvinug"
      }
    },
    {
      "cell_type": "code",
      "source": [
        "docker ps -a"
      ],
      "metadata": {
        "id": "ovwV-z9diJUg"
      },
      "execution_count": null,
      "outputs": []
    },
    {
      "cell_type": "markdown",
      "source": [
        "Quan tinguem el servidor de Odoo obert (el container executant-se) anem a un navegador web i posem la direcció següent:"
      ],
      "metadata": {
        "id": "tQQpyEeriJus"
      }
    },
    {
      "cell_type": "code",
      "source": [
        "http://localhost:8069/"
      ],
      "metadata": {
        "id": "JAlJa9oOiKQC"
      },
      "execution_count": null,
      "outputs": []
    },
    {
      "cell_type": "markdown",
      "source": [
        "# Docker hub"
      ],
      "metadata": {
        "id": "9pUwOWZufgQ2"
      }
    },
    {
      "cell_type": "markdown",
      "source": [
        "TODO"
      ],
      "metadata": {
        "id": "F-QZDK9ofhdC"
      }
    },
    {
      "cell_type": "markdown",
      "source": [
        "# Imatge del tutorial de Docker (apartat opcional)"
      ],
      "metadata": {
        "id": "cNCyNE4gb-D2"
      }
    },
    {
      "cell_type": "markdown",
      "source": [
        "## Clone"
      ],
      "metadata": {
        "id": "omIjGakaZ8C1"
      }
    },
    {
      "cell_type": "code",
      "source": [
        "docker run --name repo alpine/git clone \\ git clone \\ https://github.com/docker/getting-started.git"
      ],
      "metadata": {
        "id": "_UknrDgkaouo"
      },
      "execution_count": null,
      "outputs": []
    },
    {
      "cell_type": "code",
      "source": [
        "docker cp repo:/git/getting-started/ ."
      ],
      "metadata": {
        "id": "gvbGstgRbAg5"
      },
      "execution_count": null,
      "outputs": []
    },
    {
      "cell_type": "markdown",
      "source": [
        "## Build"
      ],
      "metadata": {
        "id": "8LVtQ8mXZ9XR"
      }
    },
    {
      "cell_type": "code",
      "source": [
        "cd getting-started"
      ],
      "metadata": {
        "id": "zw0GjGyEaS0d"
      },
      "execution_count": null,
      "outputs": []
    },
    {
      "cell_type": "code",
      "source": [
        "docker build -t docker101tutorial ."
      ],
      "metadata": {
        "id": "aPFJXYXaa3o4"
      },
      "execution_count": null,
      "outputs": []
    },
    {
      "cell_type": "markdown",
      "source": [
        "## Run Container"
      ],
      "metadata": {
        "id": "AU4hPV4maBZL"
      }
    },
    {
      "cell_type": "code",
      "source": [
        "docker run -d -p 80:80 \\ --name docker-tutor docker101tutorialdocker "
      ],
      "metadata": {
        "id": "7lWJZA3qaERX"
      },
      "execution_count": null,
      "outputs": []
    },
    {
      "cell_type": "code",
      "source": [
        "%%shell\n",
        "jupyter nbconvert --to html /content/Introduccio_a_Docker.ipynb"
      ],
      "metadata": {
        "colab": {
          "base_uri": "https://localhost:8080/"
        },
        "id": "dG9t1_o19HY2",
        "outputId": "cd545aa8-1dc4-403e-fc75-11df9c88d3eb"
      },
      "execution_count": null,
      "outputs": [
        {
          "output_type": "stream",
          "name": "stdout",
          "text": [
            "[NbConvertApp] Converting notebook /content/Introduccio_a_Docker.ipynb to html\n",
            "[NbConvertApp] Writing 295452 bytes to /content/Introduccio_a_Docker.html\n"
          ]
        },
        {
          "output_type": "execute_result",
          "data": {
            "text/plain": [
              ""
            ]
          },
          "metadata": {},
          "execution_count": 1
        }
      ]
    }
  ]
}