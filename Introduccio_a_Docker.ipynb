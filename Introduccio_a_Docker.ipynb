{
  "nbformat": 4,
  "nbformat_minor": 0,
  "metadata": {
    "colab": {
      "name": "Introduccio a Docker.ipynb",
      "provenance": [],
      "collapsed_sections": [],
      "toc_visible": true,
      "include_colab_link": true
    },
    "kernelspec": {
      "name": "python3",
      "display_name": "Python 3"
    },
    "language_info": {
      "name": "python"
    }
  },
  "cells": [
    {
      "cell_type": "markdown",
      "metadata": {
        "id": "view-in-github",
        "colab_type": "text"
      },
      "source": [
        "<a href=\"https://colab.research.google.com/github/ntb-cicles/Docker/blob/main/Introduccio_a_Docker.ipynb\" target=\"_parent\"><img src=\"https://colab.research.google.com/assets/colab-badge.svg\" alt=\"Open In Colab\"/></a>"
      ]
    },
    {
      "cell_type": "markdown",
      "source": [
        "# Què és Docker?\n",
        "\n",
        "**Docker és una plataforma que ens permet crear i gestionar entorns aïllats per executar una aplicació**.\n",
        "\n",
        "Dins de docker podem crear un o més entorn diferents. Cada entorn pot tenir els seus fitxers de configuració i programari amb versions determinades.\n",
        "\n",
        "A cada un dels entorns de Docker se'ls anomena **Containers**."
      ],
      "metadata": {
        "id": "yUY1ElOsCLia"
      }
    },
    {
      "cell_type": "markdown",
      "source": [
        "Docker és útil per desenvolupar aplicacions que funcionin correctament en qualsevol màquina. Així evitem la típica situació de \"en mi máquina funcionaba\".\n",
        "\n",
        "\\\n",
        "\n",
        "Cal tenir en compte que en cada màquina i Sistema Operatiu tenim diferències en:\n",
        "\n",
        "*   Fitxers del sistema. Per exemple, fitxers de configuració de les variables d'entorn.\n",
        "*   Fitxers personals. Per exemple, un document .txt creat per nosaltres el qual una aplicació està llegint constantment.\n",
        "*   Versions de programari. Algunes aplicacions depenen d'altres aplicacions, i si hi ha diferències en les versions de les aplicacions podem tenir problemes.\n",
        "\n",
        "\n",
        "\n",
        "\n",
        "\n",
        "\n"
      ],
      "metadata": {
        "id": "fucIolGTC006"
      }
    },
    {
      "cell_type": "markdown",
      "source": [
        "# Containers vs Màquines Virtuals\n",
        "\n",
        "La definició de Container com a \"entorn aïllat per executar una aplicació\" ens sona molt, ja que podem fer exactament això amb una màquina virtual. \n",
        "\n",
        "\\\n",
        "\n",
        "Tot i això, un Container de Docker no és el mateix que una màquina virtual.\n",
        "\n",
        "\\\n",
        "\n",
        "Una màquina virtual és una abstracció d'una màquina, és a dir, simula el hardware d'un ordinador real; i cal que li instal·lem un sistema operatiu.\n",
        "\n",
        "En canvi, en un Container de Docker, no cal que li instal·lem cap sistema operatiu ni simula hardware. Docker utilitza el Sistema Operatiu host per a tots el Containers.\n",
        "\n",
        "Per tant, un Container de Docker és molt més lleuger i molt més ràpid de crear i configurar.\n",
        "\n",
        "\n",
        "\n"
      ],
      "metadata": {
        "id": "mXzsm9TnHb93"
      }
    },
    {
      "cell_type": "markdown",
      "source": [
        "# Arquitectura de Docker\n",
        "\n"
      ],
      "metadata": {
        "id": "tIL_VbwGKMi4"
      }
    },
    {
      "cell_type": "markdown",
      "source": [
        "## Quins Sistemes Operatius podem provar amb Docker?"
      ],
      "metadata": {
        "id": "-jLeiELXKRbS"
      }
    },
    {
      "cell_type": "markdown",
      "source": [
        "Com hem dit anteriorment, Docker utilitza el Sistema Operatiu host per a tots el Containers. \n",
        "\n",
        "\\\n",
        "\n",
        "Però, si per exemple estem utilitzant un sistema Linux, podem provar aplicacions que funcionin també en Windows?\n",
        "\n",
        "\\\n",
        "\n",
        "\n",
        "*   Amb un SO Windows, podem **provar aplicacions per a Windows i per a Linux**\n",
        "*   Amb un SO Linux, podem **provar aplicacions per a Linux**.\n",
        "*   Amb un SO MacOS, podem **provar aplicacions per a MacOS i per a Linux**.\n",
        "\n",
        "\\\n"
      ],
      "metadata": {
        "id": "WmgYpsTvKbwo"
      }
    },
    {
      "cell_type": "markdown",
      "source": [
        "Això es deu a què **a partir de Windows 10, els SO Windows vénen amb dos Kernels: el Kernel de Windows i el Kernel de Linux**.\n",
        "\n",
        "\\\n",
        "\n",
        "En canvi, **els SO Linux només vénen amb el kernel de Linux**. Això es déu a què el kernel de Linux és obert i lliure (tothom pot veure, modificar i distribuïr el codi lliurement), en canvi el kernel de Windows és tancat i privatiu (ningú fora de Microsoft el pot veure, modificar o distribuïr el codi) \n",
        "\n",
        "\\\n",
        "\n",
        "El kernel de MacOS, igual que en Windows, és tancat i privatiu, i també porta el kernel de Linux. "
      ],
      "metadata": {
        "id": "Qcs9PYroMcFy"
      }
    },
    {
      "cell_type": "markdown",
      "source": [
        "## Kernel"
      ],
      "metadata": {
        "id": "5f__-P5nKYLa"
      }
    },
    {
      "cell_type": "markdown",
      "source": [
        "Un Kernel, també conegut com \"nucli del sistema operatiu\" **és la versió més petita possible d'un sistema operatiu**. El kernel és capaç de comunicar-se amb el hardware per executar aplicacions, i res més.\n",
        "\n",
        "\\\n",
        "\n",
        "Per tant, per executar una aplicació en un SO Linux, com a mínim necessites el kernel de Linux."
      ],
      "metadata": {
        "id": "kuql8sDqMlH9"
      }
    },
    {
      "cell_type": "markdown",
      "source": [
        "# Instal·lar Docker"
      ],
      "metadata": {
        "id": "VKeI-QSx7J_w"
      }
    },
    {
      "cell_type": "markdown",
      "source": [
        "[Enllaç instal·lar Docker en Windows](https://docs.docker.com/desktop/windows/install/ )\n",
        "\n",
        "[Enllaç instal·lar Docker en Ubuntu](https://docs.docker.com/engine/install/ubuntu/)"
      ],
      "metadata": {
        "id": "7o9VOn9hQZAs"
      }
    },
    {
      "cell_type": "markdown",
      "source": [
        "En Windows, descarregueu l'executable"
      ],
      "metadata": {
        "id": "d8hon-6nRRNJ"
      }
    },
    {
      "cell_type": "markdown",
      "source": [
        "# Comunicació amb Docker\n",
        "\n",
        "Igual què com heu fet amb Ubuntu Server i SSH.\n",
        "\n",
        "El **container de Docker té el rol de Servidor**, i una **terminal de Windows tindrà el rol de Client**.\n",
        "\n",
        "Adreça i port del container de Docker:"
      ],
      "metadata": {
        "id": "SG9fCsqXRXK3"
      }
    }
  ]
}